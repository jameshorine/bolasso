{
 "cells": [
  {
   "cell_type": "markdown",
   "metadata": {},
   "source": [
    "# Bootstrap Lasso Experiments\n",
    "The goal of this notebook is to experiment with different details of a bootstrap lasso implementation, including handling input and output data, formula, parallelization, and plotting"
   ]
  },
  {
   "cell_type": "code",
   "execution_count": 1,
   "metadata": {},
   "outputs": [],
   "source": [
    "import pandas as pd\n",
    "import numpy as np\n",
    "from sklearn.linear_model import LassoCV\n",
    "from sklearn.datasets import make_regression\n",
    "import matplotlib.pyplot as plt\n",
    "import seaborn as sns\n",
    "sns.set_theme()\n",
    "sns.set_style(\"whitegrid\")"
   ]
  },
  {
   "cell_type": "markdown",
   "metadata": {},
   "source": [
    "## Basics"
   ]
  },
  {
   "cell_type": "code",
   "execution_count": 2,
   "metadata": {},
   "outputs": [],
   "source": [
    "# Make some fake data\n",
    "X, y = make_regression(n_samples = 2000, n_features = 20, n_informative = 10, noise = 4, random_state = 0)"
   ]
  },
  {
   "cell_type": "code",
   "execution_count": 3,
   "metadata": {},
   "outputs": [],
   "source": [
    "# Fit single Lasso regression with CV Lambda\n",
    "reg = LassoCV(cv = 5, random_state = 0).fit(X, y)"
   ]
  },
  {
   "cell_type": "code",
   "execution_count": 4,
   "metadata": {},
   "outputs": [
    {
     "name": "stdout",
     "output_type": "stream",
     "text": [
      "Optimal alpha is 0.0953083247935252\n"
     ]
    }
   ],
   "source": [
    "# Optimal lambda (called alpha here)\n",
    "opt_alpha = reg.alpha_\n",
    "print(f\"Optimal alpha is {opt_alpha}\")"
   ]
  },
  {
   "cell_type": "code",
   "execution_count": 5,
   "metadata": {},
   "outputs": [
    {
     "data": {
      "text/plain": [
       "array([ 9.65335951e+01,  3.69831060e+01,  7.25719525e+01, -0.00000000e+00,\n",
       "        0.00000000e+00,  0.00000000e+00,  3.28292562e-02,  3.54511613e-03,\n",
       "        5.58463728e+01,  8.72839409e+01, -0.00000000e+00, -0.00000000e+00,\n",
       "        0.00000000e+00,  3.32446275e-02,  9.60642969e+01,  4.46156811e+01,\n",
       "        8.00426110e+00,  8.16777795e+01,  3.40097205e+01, -8.35550365e-02])"
      ]
     },
     "execution_count": 5,
     "metadata": {},
     "output_type": "execute_result"
    }
   ],
   "source": [
    "# Coefficients when fit with optimal alpha\n",
    "reg.coef_"
   ]
  },
  {
   "cell_type": "markdown",
   "metadata": {},
   "source": [
    "### Experiment 1\n",
    "+ sklearn  \n",
    "+ non-parallel  \n",
    "+ numpy matrix inputs and outputs  "
   ]
  },
  {
   "cell_type": "code",
   "execution_count": 6,
   "metadata": {},
   "outputs": [],
   "source": [
    "# Simple bootstrap\n",
    "N =  500 # Number of bootstrap iterations\n",
    "n_rows = X.shape[0]\n",
    "n_cols = X.shape[1]\n",
    "# Empty matrix to store coefficients; each row will be a bootstrap outcome, each column a variable\n",
    "bs_results = np.empty(shape = (N, n_cols))\n",
    "for i in range(N):\n",
    "    # Randomly sample row indices with replacement\n",
    "    # idx = np.random.choice(np.arange(n_rows), size = n_rows, replace = True)\n",
    "    # Slightly faster:\n",
    "    idx = np.random.randint(0, n_rows, n_rows)\n",
    "    # Fit Lasso regression on sampled rows with CV Lambda\n",
    "    reg = LassoCV(cv = 5, random_state = 0).fit(X[idx,], y[idx,])\n",
    "    # Store coefficients\n",
    "    bs_results[i] = reg.coef_"
   ]
  },
  {
   "cell_type": "code",
   "execution_count": 7,
   "metadata": {},
   "outputs": [
    {
     "data": {
      "text/plain": [
       "array([1.   , 1.   , 1.   , 0.246, 0.268, 0.246, 0.668, 0.532, 1.   ,\n",
       "       1.   , 0.496, 0.228, 0.346, 0.638, 1.   , 1.   , 1.   , 1.   ,\n",
       "       1.   , 0.818])"
      ]
     },
     "execution_count": 7,
     "metadata": {},
     "output_type": "execute_result"
    }
   ],
   "source": [
    "# Get fraction of bootstraps that include each variable\n",
    "(abs(bs_results) > 0).mean(axis = 0)"
   ]
  },
  {
   "cell_type": "markdown",
   "metadata": {},
   "source": [
    "### Experiment 2\n",
    "+ sklearn  \n",
    "+ non-parallel  \n",
    "+ pandas dataframe inputs and outputs with formula"
   ]
  },
  {
   "cell_type": "code",
   "execution_count": 8,
   "metadata": {},
   "outputs": [
    {
     "data": {
      "text/html": [
       "<div>\n",
       "<style scoped>\n",
       "    .dataframe tbody tr th:only-of-type {\n",
       "        vertical-align: middle;\n",
       "    }\n",
       "\n",
       "    .dataframe tbody tr th {\n",
       "        vertical-align: top;\n",
       "    }\n",
       "\n",
       "    .dataframe thead th {\n",
       "        text-align: right;\n",
       "    }\n",
       "</style>\n",
       "<table border=\"1\" class=\"dataframe\">\n",
       "  <thead>\n",
       "    <tr style=\"text-align: right;\">\n",
       "      <th></th>\n",
       "      <th>var_0</th>\n",
       "      <th>var_1</th>\n",
       "      <th>var_2</th>\n",
       "      <th>var_3</th>\n",
       "      <th>var_4</th>\n",
       "      <th>var_5</th>\n",
       "      <th>var_6</th>\n",
       "      <th>var_7</th>\n",
       "      <th>var_8</th>\n",
       "      <th>var_9</th>\n",
       "      <th>...</th>\n",
       "      <th>var_11</th>\n",
       "      <th>var_12</th>\n",
       "      <th>var_13</th>\n",
       "      <th>var_14</th>\n",
       "      <th>var_15</th>\n",
       "      <th>var_16</th>\n",
       "      <th>var_17</th>\n",
       "      <th>var_18</th>\n",
       "      <th>var_19</th>\n",
       "      <th>y</th>\n",
       "    </tr>\n",
       "  </thead>\n",
       "  <tbody>\n",
       "    <tr>\n",
       "      <th>0</th>\n",
       "      <td>-0.143692</td>\n",
       "      <td>-1.720325</td>\n",
       "      <td>2.174773</td>\n",
       "      <td>-0.166570</td>\n",
       "      <td>1.431844</td>\n",
       "      <td>0.935476</td>\n",
       "      <td>0.811172</td>\n",
       "      <td>-0.898043</td>\n",
       "      <td>-0.105477</td>\n",
       "      <td>-1.631266</td>\n",
       "      <td>...</td>\n",
       "      <td>0.762247</td>\n",
       "      <td>-1.170872</td>\n",
       "      <td>1.082268</td>\n",
       "      <td>-1.060018</td>\n",
       "      <td>0.560868</td>\n",
       "      <td>-1.000963</td>\n",
       "      <td>1.712960</td>\n",
       "      <td>-0.893363</td>\n",
       "      <td>-0.751994</td>\n",
       "      <td>-48.241475</td>\n",
       "    </tr>\n",
       "    <tr>\n",
       "      <th>1</th>\n",
       "      <td>0.760652</td>\n",
       "      <td>-0.946930</td>\n",
       "      <td>2.070693</td>\n",
       "      <td>1.022958</td>\n",
       "      <td>-1.542727</td>\n",
       "      <td>-0.913354</td>\n",
       "      <td>-1.540954</td>\n",
       "      <td>-1.083286</td>\n",
       "      <td>0.494218</td>\n",
       "      <td>-1.933970</td>\n",
       "      <td>...</td>\n",
       "      <td>-0.669237</td>\n",
       "      <td>0.707848</td>\n",
       "      <td>1.794478</td>\n",
       "      <td>1.253404</td>\n",
       "      <td>0.653315</td>\n",
       "      <td>0.577458</td>\n",
       "      <td>-0.782008</td>\n",
       "      <td>-0.647808</td>\n",
       "      <td>1.419360</td>\n",
       "      <td>114.386817</td>\n",
       "    </tr>\n",
       "    <tr>\n",
       "      <th>2</th>\n",
       "      <td>-1.016927</td>\n",
       "      <td>-0.030318</td>\n",
       "      <td>0.504924</td>\n",
       "      <td>-0.332379</td>\n",
       "      <td>0.423130</td>\n",
       "      <td>0.030544</td>\n",
       "      <td>-0.098371</td>\n",
       "      <td>0.968252</td>\n",
       "      <td>-0.911901</td>\n",
       "      <td>0.213048</td>\n",
       "      <td>...</td>\n",
       "      <td>0.971411</td>\n",
       "      <td>-0.248421</td>\n",
       "      <td>-1.079612</td>\n",
       "      <td>0.029954</td>\n",
       "      <td>-0.662192</td>\n",
       "      <td>-0.214717</td>\n",
       "      <td>-1.016476</td>\n",
       "      <td>-0.698976</td>\n",
       "      <td>1.594148</td>\n",
       "      <td>-233.072890</td>\n",
       "    </tr>\n",
       "    <tr>\n",
       "      <th>3</th>\n",
       "      <td>-0.011055</td>\n",
       "      <td>-0.224936</td>\n",
       "      <td>-0.799320</td>\n",
       "      <td>-1.627230</td>\n",
       "      <td>-1.687300</td>\n",
       "      <td>0.141413</td>\n",
       "      <td>-0.235578</td>\n",
       "      <td>-0.280442</td>\n",
       "      <td>-0.738897</td>\n",
       "      <td>-1.643724</td>\n",
       "      <td>...</td>\n",
       "      <td>0.812186</td>\n",
       "      <td>1.261733</td>\n",
       "      <td>-1.447640</td>\n",
       "      <td>-1.748073</td>\n",
       "      <td>0.646040</td>\n",
       "      <td>0.176605</td>\n",
       "      <td>-0.415429</td>\n",
       "      <td>2.224263</td>\n",
       "      <td>0.762691</td>\n",
       "      <td>-354.210675</td>\n",
       "    </tr>\n",
       "    <tr>\n",
       "      <th>4</th>\n",
       "      <td>-0.043859</td>\n",
       "      <td>0.453676</td>\n",
       "      <td>-0.471868</td>\n",
       "      <td>0.064971</td>\n",
       "      <td>0.543364</td>\n",
       "      <td>0.871053</td>\n",
       "      <td>-0.401273</td>\n",
       "      <td>0.278023</td>\n",
       "      <td>-0.936520</td>\n",
       "      <td>-1.591680</td>\n",
       "      <td>...</td>\n",
       "      <td>-1.800221</td>\n",
       "      <td>0.107869</td>\n",
       "      <td>-1.605771</td>\n",
       "      <td>-0.643826</td>\n",
       "      <td>0.073285</td>\n",
       "      <td>0.945265</td>\n",
       "      <td>-0.426766</td>\n",
       "      <td>-1.080712</td>\n",
       "      <td>0.124579</td>\n",
       "      <td>-336.819974</td>\n",
       "    </tr>\n",
       "  </tbody>\n",
       "</table>\n",
       "<p>5 rows × 21 columns</p>\n",
       "</div>"
      ],
      "text/plain": [
       "      var_0     var_1     var_2     var_3     var_4     var_5     var_6  \\\n",
       "0 -0.143692 -1.720325  2.174773 -0.166570  1.431844  0.935476  0.811172   \n",
       "1  0.760652 -0.946930  2.070693  1.022958 -1.542727 -0.913354 -1.540954   \n",
       "2 -1.016927 -0.030318  0.504924 -0.332379  0.423130  0.030544 -0.098371   \n",
       "3 -0.011055 -0.224936 -0.799320 -1.627230 -1.687300  0.141413 -0.235578   \n",
       "4 -0.043859  0.453676 -0.471868  0.064971  0.543364  0.871053 -0.401273   \n",
       "\n",
       "      var_7     var_8     var_9  ...    var_11    var_12    var_13    var_14  \\\n",
       "0 -0.898043 -0.105477 -1.631266  ...  0.762247 -1.170872  1.082268 -1.060018   \n",
       "1 -1.083286  0.494218 -1.933970  ... -0.669237  0.707848  1.794478  1.253404   \n",
       "2  0.968252 -0.911901  0.213048  ...  0.971411 -0.248421 -1.079612  0.029954   \n",
       "3 -0.280442 -0.738897 -1.643724  ...  0.812186  1.261733 -1.447640 -1.748073   \n",
       "4  0.278023 -0.936520 -1.591680  ... -1.800221  0.107869 -1.605771 -0.643826   \n",
       "\n",
       "     var_15    var_16    var_17    var_18    var_19           y  \n",
       "0  0.560868 -1.000963  1.712960 -0.893363 -0.751994  -48.241475  \n",
       "1  0.653315  0.577458 -0.782008 -0.647808  1.419360  114.386817  \n",
       "2 -0.662192 -0.214717 -1.016476 -0.698976  1.594148 -233.072890  \n",
       "3  0.646040  0.176605 -0.415429  2.224263  0.762691 -354.210675  \n",
       "4  0.073285  0.945265 -0.426766 -1.080712  0.124579 -336.819974  \n",
       "\n",
       "[5 rows x 21 columns]"
      ]
     },
     "execution_count": 8,
     "metadata": {},
     "output_type": "execute_result"
    }
   ],
   "source": [
    "# Create data frame using previous X and y\n",
    "df = pd.DataFrame(X, columns = [\"var_\" + str(i) for i in range(X.shape[1])])\n",
    "df[\"y\"] = y\n",
    "df.head()"
   ]
  },
  {
   "cell_type": "code",
   "execution_count": 9,
   "metadata": {},
   "outputs": [
    {
     "name": "stdout",
     "output_type": "stream",
     "text": [
      "y ~ var_0 + var_1 + var_2 + var_3 + var_4 + var_5 + var_6 + var_7 + var_8 + var_9 + var_10 + var_11 + var_12 + var_13 + var_14 + var_15 + var_16 + var_17 + var_18 + var_19\n"
     ]
    }
   ],
   "source": [
    "# Use patsy to create matrices from data frame and formula\n",
    "import patsy\n",
    "formula = \"y ~ \" + \" + \".join(df.columns[:-1])\n",
    "print(formula)"
   ]
  },
  {
   "cell_type": "code",
   "execution_count": 10,
   "metadata": {},
   "outputs": [],
   "source": [
    "# Create matrices\n",
    "df_y, df_X = patsy.dmatrices(formula, data = df)"
   ]
  },
  {
   "cell_type": "code",
   "execution_count": 11,
   "metadata": {},
   "outputs": [],
   "source": [
    "# Simple bootstrap\n",
    "N =  500 # Number of bootstrap iterations\n",
    "n_rows = df_X.shape[0]\n",
    "n_cols = df_X.shape[1]\n",
    "# Empty matrix to store coefficients; each row will be a bootstrap outcome, each column a variable\n",
    "bs_results = np.empty(shape = (N, n_cols))\n",
    "df_y = np.ravel(df_y) # LassoCV wants a 1d array\n",
    "for i in range(N):\n",
    "    # Randomly sample row indices with replacement\n",
    "    #idx = np.random.choice(np.arange(n_rows), size = n_rows, replace = True)\n",
    "    idx = np.random.randint(0, n_rows, n_rows)\n",
    "    # Fit Lasso regression on sampled rows with CV Lambda\n",
    "    reg = LassoCV(cv = 5, random_state = 0).fit(df_X[idx,], df_y[idx,])\n",
    "    # Store coefficients\n",
    "    bs_results[i] = reg.coef_"
   ]
  },
  {
   "cell_type": "code",
   "execution_count": 12,
   "metadata": {},
   "outputs": [
    {
     "data": {
      "text/html": [
       "<div>\n",
       "<style scoped>\n",
       "    .dataframe tbody tr th:only-of-type {\n",
       "        vertical-align: middle;\n",
       "    }\n",
       "\n",
       "    .dataframe tbody tr th {\n",
       "        vertical-align: top;\n",
       "    }\n",
       "\n",
       "    .dataframe thead th {\n",
       "        text-align: right;\n",
       "    }\n",
       "</style>\n",
       "<table border=\"1\" class=\"dataframe\">\n",
       "  <thead>\n",
       "    <tr style=\"text-align: right;\">\n",
       "      <th></th>\n",
       "      <th>variable</th>\n",
       "      <th>probability</th>\n",
       "    </tr>\n",
       "  </thead>\n",
       "  <tbody>\n",
       "    <tr>\n",
       "      <th>0</th>\n",
       "      <td>Intercept</td>\n",
       "      <td>0.000</td>\n",
       "    </tr>\n",
       "    <tr>\n",
       "      <th>1</th>\n",
       "      <td>var_0</td>\n",
       "      <td>1.000</td>\n",
       "    </tr>\n",
       "    <tr>\n",
       "      <th>2</th>\n",
       "      <td>var_1</td>\n",
       "      <td>1.000</td>\n",
       "    </tr>\n",
       "    <tr>\n",
       "      <th>3</th>\n",
       "      <td>var_2</td>\n",
       "      <td>1.000</td>\n",
       "    </tr>\n",
       "    <tr>\n",
       "      <th>4</th>\n",
       "      <td>var_3</td>\n",
       "      <td>0.222</td>\n",
       "    </tr>\n",
       "    <tr>\n",
       "      <th>5</th>\n",
       "      <td>var_4</td>\n",
       "      <td>0.262</td>\n",
       "    </tr>\n",
       "    <tr>\n",
       "      <th>6</th>\n",
       "      <td>var_5</td>\n",
       "      <td>0.302</td>\n",
       "    </tr>\n",
       "    <tr>\n",
       "      <th>7</th>\n",
       "      <td>var_6</td>\n",
       "      <td>0.614</td>\n",
       "    </tr>\n",
       "    <tr>\n",
       "      <th>8</th>\n",
       "      <td>var_7</td>\n",
       "      <td>0.514</td>\n",
       "    </tr>\n",
       "    <tr>\n",
       "      <th>9</th>\n",
       "      <td>var_8</td>\n",
       "      <td>1.000</td>\n",
       "    </tr>\n",
       "    <tr>\n",
       "      <th>10</th>\n",
       "      <td>var_9</td>\n",
       "      <td>1.000</td>\n",
       "    </tr>\n",
       "    <tr>\n",
       "      <th>11</th>\n",
       "      <td>var_10</td>\n",
       "      <td>0.474</td>\n",
       "    </tr>\n",
       "    <tr>\n",
       "      <th>12</th>\n",
       "      <td>var_11</td>\n",
       "      <td>0.262</td>\n",
       "    </tr>\n",
       "    <tr>\n",
       "      <th>13</th>\n",
       "      <td>var_12</td>\n",
       "      <td>0.378</td>\n",
       "    </tr>\n",
       "    <tr>\n",
       "      <th>14</th>\n",
       "      <td>var_13</td>\n",
       "      <td>0.630</td>\n",
       "    </tr>\n",
       "    <tr>\n",
       "      <th>15</th>\n",
       "      <td>var_14</td>\n",
       "      <td>1.000</td>\n",
       "    </tr>\n",
       "    <tr>\n",
       "      <th>16</th>\n",
       "      <td>var_15</td>\n",
       "      <td>1.000</td>\n",
       "    </tr>\n",
       "    <tr>\n",
       "      <th>17</th>\n",
       "      <td>var_16</td>\n",
       "      <td>1.000</td>\n",
       "    </tr>\n",
       "    <tr>\n",
       "      <th>18</th>\n",
       "      <td>var_17</td>\n",
       "      <td>1.000</td>\n",
       "    </tr>\n",
       "    <tr>\n",
       "      <th>19</th>\n",
       "      <td>var_18</td>\n",
       "      <td>1.000</td>\n",
       "    </tr>\n",
       "    <tr>\n",
       "      <th>20</th>\n",
       "      <td>var_19</td>\n",
       "      <td>0.822</td>\n",
       "    </tr>\n",
       "  </tbody>\n",
       "</table>\n",
       "</div>"
      ],
      "text/plain": [
       "     variable  probability\n",
       "0   Intercept        0.000\n",
       "1       var_0        1.000\n",
       "2       var_1        1.000\n",
       "3       var_2        1.000\n",
       "4       var_3        0.222\n",
       "5       var_4        0.262\n",
       "6       var_5        0.302\n",
       "7       var_6        0.614\n",
       "8       var_7        0.514\n",
       "9       var_8        1.000\n",
       "10      var_9        1.000\n",
       "11     var_10        0.474\n",
       "12     var_11        0.262\n",
       "13     var_12        0.378\n",
       "14     var_13        0.630\n",
       "15     var_14        1.000\n",
       "16     var_15        1.000\n",
       "17     var_16        1.000\n",
       "18     var_17        1.000\n",
       "19     var_18        1.000\n",
       "20     var_19        0.822"
      ]
     },
     "execution_count": 12,
     "metadata": {},
     "output_type": "execute_result"
    }
   ],
   "source": [
    "# Parse inclusion probabilities output into dataframe\n",
    "vip_df = pd.DataFrame({\"variable\": df_X.design_info.column_names, \n",
    "                       \"probability\": (abs(bs_results) > 0).mean(axis = 0)})\n",
    "vip_df"
   ]
  },
  {
   "cell_type": "code",
   "execution_count": 13,
   "metadata": {},
   "outputs": [
    {
     "data": {
      "text/html": [
       "<div>\n",
       "<style scoped>\n",
       "    .dataframe tbody tr th:only-of-type {\n",
       "        vertical-align: middle;\n",
       "    }\n",
       "\n",
       "    .dataframe tbody tr th {\n",
       "        vertical-align: top;\n",
       "    }\n",
       "\n",
       "    .dataframe thead th {\n",
       "        text-align: right;\n",
       "    }\n",
       "</style>\n",
       "<table border=\"1\" class=\"dataframe\">\n",
       "  <thead>\n",
       "    <tr style=\"text-align: right;\">\n",
       "      <th></th>\n",
       "      <th>variable</th>\n",
       "      <th>mean_coef</th>\n",
       "      <th>p_05</th>\n",
       "      <th>p_95</th>\n",
       "    </tr>\n",
       "  </thead>\n",
       "  <tbody>\n",
       "    <tr>\n",
       "      <th>0</th>\n",
       "      <td>Intercept</td>\n",
       "      <td>0.000000</td>\n",
       "      <td>0.000000</td>\n",
       "      <td>0.000000</td>\n",
       "    </tr>\n",
       "    <tr>\n",
       "      <th>1</th>\n",
       "      <td>var_0</td>\n",
       "      <td>96.524163</td>\n",
       "      <td>96.382520</td>\n",
       "      <td>96.658754</td>\n",
       "    </tr>\n",
       "    <tr>\n",
       "      <th>2</th>\n",
       "      <td>var_1</td>\n",
       "      <td>36.984200</td>\n",
       "      <td>36.836030</td>\n",
       "      <td>37.124248</td>\n",
       "    </tr>\n",
       "    <tr>\n",
       "      <th>3</th>\n",
       "      <td>var_2</td>\n",
       "      <td>72.573348</td>\n",
       "      <td>72.437057</td>\n",
       "      <td>72.711572</td>\n",
       "    </tr>\n",
       "    <tr>\n",
       "      <th>4</th>\n",
       "      <td>var_3</td>\n",
       "      <td>-0.002397</td>\n",
       "      <td>-0.046878</td>\n",
       "      <td>0.029678</td>\n",
       "    </tr>\n",
       "    <tr>\n",
       "      <th>5</th>\n",
       "      <td>var_4</td>\n",
       "      <td>-0.000091</td>\n",
       "      <td>-0.042683</td>\n",
       "      <td>0.042972</td>\n",
       "    </tr>\n",
       "    <tr>\n",
       "      <th>6</th>\n",
       "      <td>var_5</td>\n",
       "      <td>0.002297</td>\n",
       "      <td>-0.038769</td>\n",
       "      <td>0.057326</td>\n",
       "    </tr>\n",
       "    <tr>\n",
       "      <th>7</th>\n",
       "      <td>var_6</td>\n",
       "      <td>0.049833</td>\n",
       "      <td>0.000000</td>\n",
       "      <td>0.169683</td>\n",
       "    </tr>\n",
       "    <tr>\n",
       "      <th>8</th>\n",
       "      <td>var_7</td>\n",
       "      <td>0.034278</td>\n",
       "      <td>0.000000</td>\n",
       "      <td>0.134724</td>\n",
       "    </tr>\n",
       "    <tr>\n",
       "      <th>9</th>\n",
       "      <td>var_8</td>\n",
       "      <td>55.841125</td>\n",
       "      <td>55.709292</td>\n",
       "      <td>55.982399</td>\n",
       "    </tr>\n",
       "    <tr>\n",
       "      <th>10</th>\n",
       "      <td>var_9</td>\n",
       "      <td>87.284636</td>\n",
       "      <td>87.149009</td>\n",
       "      <td>87.429664</td>\n",
       "    </tr>\n",
       "    <tr>\n",
       "      <th>11</th>\n",
       "      <td>var_10</td>\n",
       "      <td>-0.032880</td>\n",
       "      <td>-0.133698</td>\n",
       "      <td>0.000000</td>\n",
       "    </tr>\n",
       "    <tr>\n",
       "      <th>12</th>\n",
       "      <td>var_11</td>\n",
       "      <td>0.000933</td>\n",
       "      <td>-0.039394</td>\n",
       "      <td>0.043411</td>\n",
       "    </tr>\n",
       "    <tr>\n",
       "      <th>13</th>\n",
       "      <td>var_12</td>\n",
       "      <td>0.019012</td>\n",
       "      <td>0.000000</td>\n",
       "      <td>0.110327</td>\n",
       "    </tr>\n",
       "    <tr>\n",
       "      <th>14</th>\n",
       "      <td>var_13</td>\n",
       "      <td>0.049172</td>\n",
       "      <td>0.000000</td>\n",
       "      <td>0.168198</td>\n",
       "    </tr>\n",
       "    <tr>\n",
       "      <th>15</th>\n",
       "      <td>var_14</td>\n",
       "      <td>96.052957</td>\n",
       "      <td>95.928976</td>\n",
       "      <td>96.187867</td>\n",
       "    </tr>\n",
       "    <tr>\n",
       "      <th>16</th>\n",
       "      <td>var_15</td>\n",
       "      <td>44.614522</td>\n",
       "      <td>44.470223</td>\n",
       "      <td>44.758471</td>\n",
       "    </tr>\n",
       "    <tr>\n",
       "      <th>17</th>\n",
       "      <td>var_16</td>\n",
       "      <td>8.013465</td>\n",
       "      <td>7.861226</td>\n",
       "      <td>8.156392</td>\n",
       "    </tr>\n",
       "    <tr>\n",
       "      <th>18</th>\n",
       "      <td>var_17</td>\n",
       "      <td>81.676001</td>\n",
       "      <td>81.537080</td>\n",
       "      <td>81.840024</td>\n",
       "    </tr>\n",
       "    <tr>\n",
       "      <th>19</th>\n",
       "      <td>var_18</td>\n",
       "      <td>34.011129</td>\n",
       "      <td>33.862929</td>\n",
       "      <td>34.147715</td>\n",
       "    </tr>\n",
       "    <tr>\n",
       "      <th>20</th>\n",
       "      <td>var_19</td>\n",
       "      <td>-0.085197</td>\n",
       "      <td>-0.221707</td>\n",
       "      <td>0.000000</td>\n",
       "    </tr>\n",
       "  </tbody>\n",
       "</table>\n",
       "</div>"
      ],
      "text/plain": [
       "     variable  mean_coef       p_05       p_95\n",
       "0   Intercept   0.000000   0.000000   0.000000\n",
       "1       var_0  96.524163  96.382520  96.658754\n",
       "2       var_1  36.984200  36.836030  37.124248\n",
       "3       var_2  72.573348  72.437057  72.711572\n",
       "4       var_3  -0.002397  -0.046878   0.029678\n",
       "5       var_4  -0.000091  -0.042683   0.042972\n",
       "6       var_5   0.002297  -0.038769   0.057326\n",
       "7       var_6   0.049833   0.000000   0.169683\n",
       "8       var_7   0.034278   0.000000   0.134724\n",
       "9       var_8  55.841125  55.709292  55.982399\n",
       "10      var_9  87.284636  87.149009  87.429664\n",
       "11     var_10  -0.032880  -0.133698   0.000000\n",
       "12     var_11   0.000933  -0.039394   0.043411\n",
       "13     var_12   0.019012   0.000000   0.110327\n",
       "14     var_13   0.049172   0.000000   0.168198\n",
       "15     var_14  96.052957  95.928976  96.187867\n",
       "16     var_15  44.614522  44.470223  44.758471\n",
       "17     var_16   8.013465   7.861226   8.156392\n",
       "18     var_17  81.676001  81.537080  81.840024\n",
       "19     var_18  34.011129  33.862929  34.147715\n",
       "20     var_19  -0.085197  -0.221707   0.000000"
      ]
     },
     "execution_count": 13,
     "metadata": {},
     "output_type": "execute_result"
    }
   ],
   "source": [
    "# Parse coefficients output into dataframe\n",
    "coef_df = pd.DataFrame({\"variable\": df_X.design_info.column_names, \n",
    "                       \"mean_coef\": bs_results.mean(axis = 0),\n",
    "                       \"p_05\": np.percentile(bs_results, q = 5, axis = 0),\n",
    "                       \"p_95\": np.percentile(bs_results, q = 95, axis = 0)})\n",
    "coef_df"
   ]
  },
  {
   "cell_type": "markdown",
   "metadata": {},
   "source": [
    "### Experiment 3\n",
    "+ Same as experiment 2, but wrapped in a function  \n",
    "+ Plots"
   ]
  },
  {
   "cell_type": "code",
   "execution_count": 14,
   "metadata": {},
   "outputs": [],
   "source": [
    "def bolasso(formula, data, n_boot):\n",
    "    \"\"\"Bootsrapped Lasso estimation for variable selection\n",
    "\n",
    "    This function repeatedly samples rows of the data with replacement, applies the sklearn LassoCV function,\n",
    "    and aggregates the results into two data frames. The first data frame contains the probability that a variable survives\n",
    "    the lasso, calculated as the fraction of bootstrap iterations where the coefficient of the variable\n",
    "    is not 0, and the second contains the mean and 90% interval for the coefficient estimates themselves,\n",
    "    calculated over the bootstrap iterations.\n",
    "\n",
    "    Parameters\n",
    "    ----------\n",
    "    formula : string\n",
    "        Formula, e.g., \"y ~ x\". This formula will be parsed by patsy and used to create matrices to pass to LassoCV\n",
    "    data : pandas.DataFrame\n",
    "        Data frame containing the variables used the formula\n",
    "    n_boot : int\n",
    "        Number of bootstrap iterations\n",
    "\n",
    "    Returns\n",
    "    ----------\n",
    "    tuple(pandas.DataFrame, pandas.DataFrame)\n",
    "        Tuple containing data frames. The first data frame contains variable inclusion probabilities and the\n",
    "        second contains coefficient estimates.\n",
    "    \"\"\"\n",
    "    # Create matrices\n",
    "    df_y, df_X = patsy.dmatrices(formula, data = data)\n",
    "    # Simple bootstrap\n",
    "    n_rows = df_X.shape[0]\n",
    "    n_cols = df_X.shape[1]\n",
    "    # Empty matrix to store coefficients; each row will be a bootstrap outcome, each column a variable\n",
    "    bs_results = np.empty(shape = (n_boot, n_cols))\n",
    "    df_y = np.ravel(df_y) # LassoCV wants a 1d array\n",
    "    for i in range(n_boot):\n",
    "        # Randomly sample row indices with replacement\n",
    "        idx = np.random.randint(0, n_rows, n_rows)\n",
    "        # Fit Lasso regression on sampled rows with CV Lambda\n",
    "        reg = LassoCV(cv = 5, random_state = 0).fit(df_X[idx,], df_y[idx,])\n",
    "        # Store coefficients\n",
    "        bs_results[i] = reg.coef_\n",
    "    # Parse inclusion probabilities output into dataframe\n",
    "    vip_df = pd.DataFrame({\"variable\": df_X.design_info.column_names, \n",
    "                       \"probability\": (abs(bs_results) > 0).mean(axis = 0)})\n",
    "    # Parse coefficients output into dataframe\n",
    "    coef_df = pd.DataFrame({\"variable\": df_X.design_info.column_names, \n",
    "                       \"mean_coef\": bs_results.mean(axis = 0),\n",
    "                       \"p_05\": np.percentile(bs_results, q = 5, axis = 0),\n",
    "                       \"p_95\": np.percentile(bs_results, q = 95, axis = 0)})\n",
    "    return vip_df, coef_df"
   ]
  },
  {
   "cell_type": "code",
   "execution_count": 15,
   "metadata": {},
   "outputs": [],
   "source": [
    "# Test the function\n",
    "my_formula = \"y ~ \" + \" + \".join(df.columns[:-1]) # patsy doesn't have ability to do y ~ .\n",
    "my_vip_df, my_coef_df = bolasso(formula = my_formula,\n",
    "                                data = df,\n",
    "                                n_boot = 500)"
   ]
  },
  {
   "cell_type": "code",
   "execution_count": 16,
   "metadata": {},
   "outputs": [
    {
     "data": {
      "image/png": "[encoded data removed]",
      "text/plain": [
       "<Figure size 640x480 with 1 Axes>"
      ]
     },
     "metadata": {},
     "output_type": "display_data"
    }
   ],
   "source": [
    "g = sns.barplot(x = \"probability\", \n",
    "                y = \"variable\", \n",
    "                data = my_vip_df)\n",
    "g.set(title = \"Variable Inclusion Probability\",\n",
    "      xlabel = \"Probability of Inclusion\",\n",
    "      ylabel = \"Variable\")\n",
    "plt.show()"
   ]
  },
  {
   "cell_type": "code",
   "execution_count": 17,
   "metadata": {},
   "outputs": [
    {
     "data": {
      "image/png": "[encoded data removed]",
      "text/plain": [
       "<Figure size 640x480 with 1 Axes>"
      ]
     },
     "metadata": {},
     "output_type": "display_data"
    }
   ],
   "source": [
    "g = sns.barplot(x = \"mean_coef\", \n",
    "                y = \"variable\", \n",
    "                data = my_coef_df)\n",
    "g.errorbar(x = my_coef_df[\"mean_coef\"], \n",
    "           y = my_coef_df[\"variable\"], \n",
    "           xerr = my_coef_df[\"p_95\"] - my_coef_df[\"p_05\"], \n",
    "           fmt = \"none\",\n",
    "           color = \"black\",\n",
    "           capsize = 4)\n",
    "g.set(title = \"Coefficients\",\n",
    "      xlabel = \"Mean Coefficient\",\n",
    "      ylabel = \"Variable\")\n",
    "plt.show()"
   ]
  },
  {
   "cell_type": "markdown",
   "metadata": {},
   "source": [
    "### Experiment 4\n",
    "+ Add parallelization to function from experiment 3"
   ]
  },
  {
   "cell_type": "code",
   "execution_count": 18,
   "metadata": {},
   "outputs": [],
   "source": [
    "# joblib is more userfriendly than multiprocessing\n",
    "from joblib import Parallel, delayed"
   ]
  },
  {
   "cell_type": "code",
   "execution_count": 19,
   "metadata": {},
   "outputs": [],
   "source": [
    "def bolasso_parallel(formula, data, n_boot):\n",
    "    # Create matrices\n",
    "    df_y, df_X = patsy.dmatrices(formula, data = data)\n",
    "    # Simple bootstrap\n",
    "    n_rows = df_X.shape[0]\n",
    "    n_cols = df_X.shape[1]\n",
    "    # Empty matrix to store coefficients; each row will be a bootstrap outcome, each column a variable\n",
    "    bs_results = np.empty(shape = (n_boot, n_cols))\n",
    "    # Define inner function for passing to parallel\n",
    "    # Convert to numpy array to fix issue with parallelization pickling\n",
    "    X = np.asarray(df_X)\n",
    "    y = np.asarray(df_y).ravel()\n",
    "    def inner_func(i):\n",
    "         # Randomly sample row indices with replacement\n",
    "        idx = np.random.randint(0, n_rows-1, n_rows)\n",
    "        # Fit Lasso regression on sampled rows with CV Lambda\n",
    "        reg = LassoCV(cv = 5, random_state = 0).fit(X[idx,], y[idx,])\n",
    "        # Store coefficients\n",
    "        return reg.coef_\n",
    "    bs_results = Parallel(n_jobs = -2)(delayed(inner_func)(i) for i in range(n_boot))\n",
    "    bs_results = np.array(bs_results)\n",
    "    # Parse inclusion probabilities output into dataframe\n",
    "    vip_df = pd.DataFrame({\"variable\": df_X.design_info.column_names, \n",
    "                       \"probability\": (abs(bs_results) > 0).mean(axis = 0)})\n",
    "    # Parse coefficients output into dataframe\n",
    "    coef_df = pd.DataFrame({\"variable\": df_X.design_info.column_names, \n",
    "                       \"mean_coef\": bs_results.mean(axis = 0),\n",
    "                       \"p_05\": np.percentile(bs_results, q = 5, axis = 0),\n",
    "                       \"p_95\": np.percentile(bs_results, q = 95, axis = 0)})\n",
    "    return vip_df, coef_df\n",
    "    "
   ]
  },
  {
   "cell_type": "markdown",
   "metadata": {},
   "source": [
    "#### Compare speeds and Outputs"
   ]
  },
  {
   "cell_type": "code",
   "execution_count": 20,
   "metadata": {},
   "outputs": [
    {
     "name": "stdout",
     "output_type": "stream",
     "text": [
      "1.62 s ± 85.2 ms per loop (mean ± std. dev. of 7 runs, 1 loop each)\n"
     ]
    }
   ],
   "source": [
    "%%timeit\n",
    "my_vip_df_1, my_coef_df_1 = bolasso_parallel(formula = my_formula,\n",
    "                                             data = df,\n",
    "                                             n_boot = 500)"
   ]
  },
  {
   "cell_type": "code",
   "execution_count": 21,
   "metadata": {},
   "outputs": [
    {
     "name": "stdout",
     "output_type": "stream",
     "text": [
      "16.2 s ± 819 ms per loop (mean ± std. dev. of 7 runs, 1 loop each)\n"
     ]
    }
   ],
   "source": [
    "%%timeit\n",
    "my_vip_df_2, my_coef_df_2 = bolasso(formula = my_formula,\n",
    "                                    data = df,\n",
    "                                    n_boot = 500)"
   ]
  },
  {
   "cell_type": "code",
   "execution_count": 22,
   "metadata": {},
   "outputs": [],
   "source": [
    "my_vip_df_1, my_coef_df_1 = bolasso_parallel(formula = my_formula,\n",
    "                                             data = df,\n",
    "                                             n_boot = 500)\n",
    "my_vip_df_2, my_coef_df_2 = bolasso(formula = my_formula,\n",
    "                                    data = df,\n",
    "                                    n_boot = 500)"
   ]
  },
  {
   "cell_type": "code",
   "execution_count": 23,
   "metadata": {},
   "outputs": [],
   "source": [
    "my_vip_df_1[\"run\"] = \"parallel\"\n",
    "my_vip_df_2[\"run\"] = \"single-threaded\"\n",
    "my_coef_df_1[\"run\"] = \"parallel\"\n",
    "my_coef_df_2[\"run\"] = \"single-threaded\"\n",
    "\n",
    "my_vip_df = pd.concat([my_vip_df_1, my_vip_df_2])\n",
    "my_coef_df = pd.concat([my_coef_df_1, my_coef_df_2])"
   ]
  },
  {
   "cell_type": "code",
   "execution_count": 24,
   "metadata": {},
   "outputs": [
    {
     "data": {
      "image/png": "[encoded data removed]",
      "text/plain": [
       "<Figure size 640x480 with 1 Axes>"
      ]
     },
     "metadata": {},
     "output_type": "display_data"
    }
   ],
   "source": [
    "g = sns.barplot(x = \"probability\", \n",
    "                y = \"variable\", \n",
    "                hue = \"run\",\n",
    "                data = my_vip_df)\n",
    "g.set(title = \"Variable Inclusion Probability\",\n",
    "      xlabel = \"Probability of Inclusion\",\n",
    "      ylabel = \"Variable\")\n",
    "plt.show()"
   ]
  },
  {
   "cell_type": "code",
   "execution_count": 25,
   "metadata": {},
   "outputs": [
    {
     "data": {
      "image/png": "[encoded data removed]",
      "text/plain": [
       "<Figure size 640x480 with 1 Axes>"
      ]
     },
     "metadata": {},
     "output_type": "display_data"
    }
   ],
   "source": [
    "g = sns.barplot(x = \"mean_coef\", \n",
    "                y = \"variable\", \n",
    "                hue = \"run\",\n",
    "                data = my_coef_df)\n",
    "g.set(title = \"Coefficients\",\n",
    "      xlabel = \"Mean Coefficient\",\n",
    "      ylabel = \"Variable\")\n",
    "plt.show()"
   ]
  }
 ],
 "metadata": {
  "kernelspec": {
   "display_name": "base",
   "language": "python",
   "name": "python3"
  },
  "language_info": {
   "codemirror_mode": {
    "name": "ipython",
    "version": 3
   },
   "file_extension": ".py",
   "mimetype": "text/x-python",
   "name": "python",
   "nbconvert_exporter": "python",
   "pygments_lexer": "ipython3",
   "version": "3.12.2"
  }
 },
 "nbformat": 4,
 "nbformat_minor": 2
}
